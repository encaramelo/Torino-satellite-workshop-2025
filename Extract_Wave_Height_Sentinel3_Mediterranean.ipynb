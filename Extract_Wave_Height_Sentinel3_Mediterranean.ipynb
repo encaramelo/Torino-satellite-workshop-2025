{
  "cells": [
    {
      "cell_type": "markdown",
      "id": "c5c2336a",
      "metadata": {
        "id": "c5c2336a"
      },
      "source": [
        "# 🌊 Extracting Wave Height from Sentinel-3 Altimetry Data"
      ]
    },
    {
      "cell_type": "markdown",
      "id": "ff3cf8c7",
      "metadata": {
        "id": "ff3cf8c7"
      },
      "source": [
        "This notebook demonstrates how to extract **significant wave height** from Sentinel-3 SRAL altimetry data over the **Mediterranean Sea** using Python."
      ]
    },
    {
      "cell_type": "markdown",
      "id": "5116b5db",
      "metadata": {
        "id": "5116b5db"
      },
      "source": [
        "## 📥 Step 1: Load Sentinel-3 NetCDF Data"
      ]
    },
    {
      "cell_type": "markdown",
      "id": "88fd97d1",
      "metadata": {
        "id": "88fd97d1"
      },
      "source": [
        "We use the `netCDF4` library to read the NetCDF file containing Sentinel-3 SRAL data."
      ]
    },
    {
      "cell_type": "markdown",
      "id": "e8c15e09",
      "metadata": {
        "id": "e8c15e09"
      },
      "source": [
        "## 🌍 Step 2: Filter Data for the Mediterranean Region"
      ]
    },
    {
      "cell_type": "markdown",
      "id": "9c876d06",
      "metadata": {
        "id": "9c876d06"
      },
      "source": [
        "We define the bounding box for the Mediterranean Sea and filter the data accordingly."
      ]
    },
    {
      "cell_type": "markdown",
      "id": "60488f73",
      "metadata": {
        "id": "60488f73"
      },
      "source": [
        "## 📊 Step 3: Visualize Wave Height Distribution"
      ]
    },
    {
      "cell_type": "markdown",
      "id": "1f78b5a8",
      "metadata": {
        "id": "1f78b5a8"
      },
      "source": [
        "We plot a histogram and a scatter map of wave height values over the Mediterranean Sea."
      ]
    },
    {
      "cell_type": "code",
      "execution_count": 2,
      "id": "9abaee0b",
      "metadata": {
        "id": "9abaee0b",
        "colab": {
          "base_uri": "https://localhost:8080/"
        },
        "outputId": "7ec14dfd-a955-4ae3-bbea-6575e5b67e44"
      },
      "outputs": [
        {
          "output_type": "stream",
          "name": "stdout",
          "text": [
            "Collecting netCDF4\n",
            "  Downloading netcdf4-1.7.3-cp311-abi3-manylinux_2_27_x86_64.manylinux_2_28_x86_64.whl.metadata (1.9 kB)\n",
            "Collecting cftime (from netCDF4)\n",
            "  Downloading cftime-1.6.5-cp312-cp312-manylinux2014_x86_64.manylinux_2_17_x86_64.whl.metadata (8.7 kB)\n",
            "Requirement already satisfied: certifi in /usr/local/lib/python3.12/dist-packages (from netCDF4) (2025.10.5)\n",
            "Requirement already satisfied: numpy in /usr/local/lib/python3.12/dist-packages (from netCDF4) (2.0.2)\n",
            "Downloading netcdf4-1.7.3-cp311-abi3-manylinux_2_27_x86_64.manylinux_2_28_x86_64.whl (9.5 MB)\n",
            "\u001b[2K   \u001b[90m━━━━━━━━━━━━━━━━━━━━━━━━━━━━━━━━━━━━━━━━\u001b[0m \u001b[32m9.5/9.5 MB\u001b[0m \u001b[31m65.5 MB/s\u001b[0m eta \u001b[36m0:00:00\u001b[0m\n",
            "\u001b[?25hDownloading cftime-1.6.5-cp312-cp312-manylinux2014_x86_64.manylinux_2_17_x86_64.whl (1.6 MB)\n",
            "\u001b[2K   \u001b[90m━━━━━━━━━━━━━━━━━━━━━━━━━━━━━━━━━━━━━━━━\u001b[0m \u001b[32m1.6/1.6 MB\u001b[0m \u001b[31m72.9 MB/s\u001b[0m eta \u001b[36m0:00:00\u001b[0m\n",
            "\u001b[?25hInstalling collected packages: cftime, netCDF4\n",
            "Successfully installed cftime-1.6.5 netCDF4-1.7.3\n"
          ]
        }
      ],
      "source": [
        "# Load required libraries\n",
        "!pip install netCDF4\n",
        "from netCDF4 import Dataset\n",
        "import numpy as np\n",
        "import pandas as pd\n",
        "import matplotlib.pyplot as plt\n",
        "%matplotlib inline"
      ]
    },
    {
      "cell_type": "code",
      "execution_count": 8,
      "id": "9428d2ec-e1c1-431b-8799-914d016e4bc4",
      "metadata": {
        "id": "9428d2ec-e1c1-431b-8799-914d016e4bc4",
        "colab": {
          "base_uri": "https://localhost:8080/",
          "height": 474
        },
        "outputId": "cf0a7816-0066-43c1-f2a1-79cc9546bb24"
      },
      "outputs": [
        {
          "output_type": "stream",
          "name": "stdout",
          "text": [
            "Drive already mounted at /content/drive; to attempt to forcibly remount, call drive.mount(\"/content/drive\", force_remount=True).\n",
            "/content/drive/MyDrive/Colab Notebooks/Torino\n",
            "total 1.6M\n",
            "-rw------- 1 root root 1.7K Sep 26 11:33 '0 - First_steps.ipynb'\n",
            "-rw------- 1 root root  18K Oct 23 09:32 '1 - Open_and_display.ipynb'\n",
            "-rw------- 1 root root  16K Oct 23 09:52  2-Time_series.ipynb\n",
            "-rw------- 1 root root 4.8K Oct 23 10:15  3-Algal_blooms.ipynb\n",
            "-rw------- 1 root root 8.1K Oct 23 08:54  ee_api_colab_setup.ipynb\n",
            "-rw------- 1 root root  11K Oct 23 10:22  Extract_Wave_Height_Sentinel3_Mediterranean.ipynb\n",
            "-rw------- 1 root root 1.5M Oct  3 13:28  standard_measurement.nc\n"
          ]
        },
        {
          "output_type": "error",
          "ename": "FileNotFoundError",
          "evalue": "[Errno 2] No such file or directory: '/content/drive/MyDrive/Torino/standard_measurement.nc'",
          "traceback": [
            "\u001b[0;31m---------------------------------------------------------------------------\u001b[0m",
            "\u001b[0;31mFileNotFoundError\u001b[0m                         Traceback (most recent call last)",
            "\u001b[0;32m/tmp/ipython-input-3278047698.py\u001b[0m in \u001b[0;36m<cell line: 0>\u001b[0;34m()\u001b[0m\n\u001b[1;32m     12\u001b[0m \u001b[0;34m\u001b[0m\u001b[0m\n\u001b[1;32m     13\u001b[0m \u001b[0;31m# Open the NetCDF file\u001b[0m\u001b[0;34m\u001b[0m\u001b[0;34m\u001b[0m\u001b[0m\n\u001b[0;32m---> 14\u001b[0;31m \u001b[0mnc\u001b[0m \u001b[0;34m=\u001b[0m \u001b[0mDataset\u001b[0m\u001b[0;34m(\u001b[0m\u001b[0mfile_path\u001b[0m\u001b[0;34m,\u001b[0m \u001b[0mmode\u001b[0m\u001b[0;34m=\u001b[0m\u001b[0;34m'r'\u001b[0m\u001b[0;34m)\u001b[0m\u001b[0;34m\u001b[0m\u001b[0;34m\u001b[0m\u001b[0m\n\u001b[0m\u001b[1;32m     15\u001b[0m \u001b[0;34m\u001b[0m\u001b[0m\n\u001b[1;32m     16\u001b[0m \u001b[0;31m# Print all variable names\u001b[0m\u001b[0;34m\u001b[0m\u001b[0;34m\u001b[0m\u001b[0m\n",
            "\u001b[0;32msrc/netCDF4/_netCDF4.pyx\u001b[0m in \u001b[0;36mnetCDF4._netCDF4.Dataset.__init__\u001b[0;34m()\u001b[0m\n",
            "\u001b[0;32msrc/netCDF4/_netCDF4.pyx\u001b[0m in \u001b[0;36mnetCDF4._netCDF4._ensure_nc_success\u001b[0;34m()\u001b[0m\n",
            "\u001b[0;31mFileNotFoundError\u001b[0m: [Errno 2] No such file or directory: '/content/drive/MyDrive/Torino/standard_measurement.nc'"
          ]
        }
      ],
      "source": [
        "from google.colab import drive\n",
        "#drive.mount('/content/drive')\n",
        "\n",
        "\n",
        "# OPTIONAL: cd into the folder where your notebook/file lives in Drive\n",
        "%cd /content/drive/MyDrive/Colab Notebooks/Torino\n",
        "!ls -lah  # sanity check: do you see your file here\n",
        "\n",
        "\n",
        "# Replace with your file path\n",
        "file_path = '/content/drive/MyDrive/Torino/standard_measurement.nc'\n",
        "\n",
        "# Open the NetCDF file\n",
        "nc = Dataset(file_path, mode='r')\n",
        "\n",
        "# Print all variable names\n",
        "print(\"Variables:\")\n",
        "print(nc.variables.keys())\n",
        "\n",
        "# Print dimensions\n",
        "print(\"\\nDimensions:\")\n",
        "print(nc.dimensions.keys())\n",
        "\n",
        "# Print global attributes\n",
        "print(\"\\nGlobal Attributes:\")\n",
        "print(nc.ncattrs())"
      ]
    },
    {
      "cell_type": "code",
      "execution_count": null,
      "id": "71f30c46-fc20-4e5c-b434-2fa64c1abe5e",
      "metadata": {
        "id": "71f30c46-fc20-4e5c-b434-2fa64c1abe5e"
      },
      "outputs": [],
      "source": [
        "# Print details of a specific variable\n",
        "var_name = 'swh_ocean_01_ku'  # replace with one from your file\n",
        "print(f\"\\nDetails of variable '{var_name}':\")\n",
        "print(nc.variables[var_name])"
      ]
    },
    {
      "cell_type": "code",
      "execution_count": null,
      "id": "d2f589ac-9069-4776-9e9c-a3a3cc1748d1",
      "metadata": {
        "id": "d2f589ac-9069-4776-9e9c-a3a3cc1748d1"
      },
      "outputs": [],
      "source": [
        "# Print details of a specific variable\n",
        "var_name = 'lat_01'  # replace with one from your file\n",
        "print(f\"\\nDetails of variable '{var_name}':\")\n",
        "print(nc.variables[var_name])"
      ]
    },
    {
      "cell_type": "code",
      "execution_count": null,
      "id": "4ea0e351-c293-4d64-96f6-17162df1f700",
      "metadata": {
        "id": "4ea0e351-c293-4d64-96f6-17162df1f700"
      },
      "outputs": [],
      "source": [
        "# Print details of a specific variable\n",
        "var_name = 'lon_01'  # replace with one from your file\n",
        "print(f\"\\nDetails of variable '{var_name}':\")\n",
        "print(nc.variables[var_name])"
      ]
    },
    {
      "cell_type": "code",
      "execution_count": null,
      "id": "f4128793",
      "metadata": {
        "id": "f4128793"
      },
      "outputs": [],
      "source": [
        "# Extract variables\n",
        "lat = nc.variables['lat_01'][:]\n",
        "lon = nc.variables['lon_01'][:]\n",
        "swh = nc.variables['swh_ocean_01_ku'][:]\n",
        "\n",
        "# Close the NetCDF file\n",
        "nc.close()"
      ]
    },
    {
      "cell_type": "code",
      "execution_count": null,
      "id": "081cb49c-e1b6-4d6d-bf4e-827bdd51577d",
      "metadata": {
        "id": "081cb49c-e1b6-4d6d-bf4e-827bdd51577d"
      },
      "outputs": [],
      "source": [
        "plt.plot(lat, swh)\n",
        "# Show the plot\n",
        "plt.show()"
      ]
    },
    {
      "cell_type": "code",
      "execution_count": null,
      "id": "00d2cd0b",
      "metadata": {
        "id": "00d2cd0b"
      },
      "outputs": [],
      "source": [
        "# Define bounding box\n",
        "lat_min, lat_max = 35.0, 37.0\n",
        "\n",
        "# Filter data within the region\n",
        "mask = (lat >= lat_min) & (lat <= lat_max)\n",
        "med_lat = lat[mask]\n",
        "med_lon = lon[mask]\n",
        "med_swh = swh[mask]\n",
        "\n",
        "# Adjust lon values\n",
        "med_lon_b = med_lon/1000\n",
        "\n",
        "# Create a DataFrame\n",
        "df = pd.DataFrame({'Latitude': med_lat, 'Longitude': med_lon_b, 'Wave_Height': med_swh})\n",
        "df.head()"
      ]
    },
    {
      "cell_type": "code",
      "execution_count": null,
      "id": "fdd0f300-24cb-4529-ae84-eebbc3d9272b",
      "metadata": {
        "id": "fdd0f300-24cb-4529-ae84-eebbc3d9272b"
      },
      "outputs": [],
      "source": [
        "# How many datapoints do I have?\n",
        "df.shape"
      ]
    },
    {
      "cell_type": "code",
      "execution_count": null,
      "id": "1ff072ce-80a3-4d8b-93f6-45d08e78d831",
      "metadata": {
        "id": "1ff072ce-80a3-4d8b-93f6-45d08e78d831"
      },
      "outputs": [],
      "source": [
        "df"
      ]
    },
    {
      "cell_type": "code",
      "execution_count": null,
      "id": "81e61087",
      "metadata": {
        "id": "81e61087"
      },
      "outputs": [],
      "source": [
        "# Plot histogram of wave height\n",
        "plt.figure(figsize=(10, 6))\n",
        "plt.hist(df['Wave_Height'], bins=30, color='skyblue', edgecolor='black')\n",
        "plt.title('Distribution of Significant Wave Height in the Mediterranean')\n",
        "plt.xlabel('Wave Height (m)')\n",
        "plt.ylabel('Frequency')\n",
        "plt.grid(True)\n",
        "plt.show()"
      ]
    },
    {
      "cell_type": "code",
      "execution_count": null,
      "id": "954b6b26",
      "metadata": {
        "id": "954b6b26"
      },
      "outputs": [],
      "source": [
        "# Scatter plot of wave height over Mediterranean\n",
        "plt.figure(figsize=(10, 6))\n",
        "sc = plt.scatter(df['Longitude'], df['Latitude'], c=df['Wave_Height'], cmap='viridis', s=10)\n",
        "plt.colorbar(sc, label='Wave Height (m)')\n",
        "plt.title('Significant Wave Height over the Mediterranean Sea')\n",
        "plt.xlabel('Longitude')\n",
        "plt.ylabel('Latitude')\n",
        "plt.grid(True)\n",
        "plt.show()"
      ]
    },
    {
      "cell_type": "code",
      "execution_count": null,
      "id": "f9987c6b-d9a9-406a-8755-7e74fb35ff0b",
      "metadata": {
        "id": "f9987c6b-d9a9-406a-8755-7e74fb35ff0b"
      },
      "outputs": [],
      "source": [
        "import folium\n",
        "\n",
        "# Define the region of interest using latitude and longitude bounds\n",
        "# Example: Mediterranean Sea region\n",
        "min_lat, max_lat = 35.0, 37.0\n",
        "min_lon, max_lon = 0, 0.5\n",
        "\n",
        "# Calculate the center of the region\n",
        "center_lat = (min_lat + max_lat) / 2\n",
        "center_lon = (min_lon + max_lon) / 2\n",
        "\n",
        "# Create a folium map centered on the region of interest\n",
        "m = folium.Map(location=[center_lat, center_lon], zoom_start=5)\n",
        "\n",
        "\n",
        "# Add circle markers for each point in the DataFrame\n",
        "for _, row in df.iterrows():\n",
        "    folium.CircleMarker(\n",
        "        location=[row['Latitude'], row['Longitude']],\n",
        "        radius=5,\n",
        "        color='blue',\n",
        "        fill=True,\n",
        "        fill_color='blue',\n",
        "        fill_opacity=0.6,\n",
        "        popup=f\"Wave Height: {row['Wave_Height']} m\"\n",
        "    ).add_to(m)\n",
        "m\n"
      ]
    },
    {
      "cell_type": "code",
      "execution_count": null,
      "id": "fed1a48a-36d2-4b40-b4e9-c841d4603e94",
      "metadata": {
        "id": "fed1a48a-36d2-4b40-b4e9-c841d4603e94"
      },
      "outputs": [],
      "source": [
        "\n",
        "\n",
        "\n"
      ]
    },
    {
      "cell_type": "code",
      "execution_count": null,
      "id": "b39d004a-57b6-4f0a-94bc-8127bf70b160",
      "metadata": {
        "id": "b39d004a-57b6-4f0a-94bc-8127bf70b160"
      },
      "outputs": [],
      "source": []
    }
  ],
  "metadata": {
    "kernelspec": {
      "display_name": "Python 3 (ipykernel)",
      "language": "python",
      "name": "python3"
    },
    "language_info": {
      "codemirror_mode": {
        "name": "ipython",
        "version": 3
      },
      "file_extension": ".py",
      "mimetype": "text/x-python",
      "name": "python",
      "nbconvert_exporter": "python",
      "pygments_lexer": "ipython3",
      "version": "3.12.7"
    },
    "colab": {
      "provenance": []
    }
  },
  "nbformat": 4,
  "nbformat_minor": 5
}